{
 "cells": [
  {
   "cell_type": "markdown",
   "metadata": {},
   "source": [
    "## Functions\n",
    "### Objectives of this Module:\n",
    "* What is function and how it will be helpful\n",
    "* Define a function and its arguments\n",
    "* Know what <b>return</b> does\n",
    "* \"Write a basic function\""
   ]
  },
  {
   "cell_type": "markdown",
   "metadata": {},
   "source": [
    "# Importance of Functions\n",
    "* Functions are the basic building blocks of program\n",
    "* They store the code which we can use again.\n",
    "* They take data and arguments to work on something  "
   ]
  },
  {
   "cell_type": "markdown",
   "metadata": {},
   "source": [
    "# Define a function using a def,with a name,parameters and block of code"
   ]
  },
  {
   "cell_type": "markdown",
   "metadata": {},
   "source": [
    "* Begin with definition of new function with def.\n",
    "* Followed by the name of function.\n",
    "* The parameters are defined in parantheses.  \n",
    "  * Empty parameters if function doesn't take any inputs.\n",
    "* Then a colon\n",
    "* Then a indented block of code.  \n",
    "\n"
   ]
  },
  {
   "cell_type": "code",
   "execution_count": 3,
   "metadata": {},
   "outputs": [],
   "source": [
    "def print_hello():\n",
    "    print('Hello World')"
   ]
  },
  {
   "cell_type": "markdown",
   "metadata": {},
   "source": [
    "# Defining a function doesnot run it.!!\n",
    "* Defining a function does not run it.  \n",
    "* Must call the function to execute the code it contains.  "
   ]
  },
  {
   "cell_type": "code",
   "execution_count": 5,
   "metadata": {},
   "outputs": [
    {
     "name": "stdout",
     "output_type": "stream",
     "text": [
      "Hello World\n"
     ]
    }
   ],
   "source": [
    "print_hello()"
   ]
  },
  {
   "cell_type": "markdown",
   "metadata": {},
   "source": [
    "* Arguments for a function.  \n",
    "* Specify parameters when define a function.  \n",
    "   * They become variable when function is executed.\n",
    "   * These are the values passed to function"
   ]
  },
  {
   "cell_type": "code",
   "execution_count": 9,
   "metadata": {},
   "outputs": [
    {
     "name": "stdout",
     "output_type": "stream",
     "text": [
      "Hello,\n",
      "sheldon ross\n"
     ]
    }
   ],
   "source": [
    "def print_name(first_name,last_name):\n",
    "    print(\"Hello,\")\n",
    "    print(first_name+\" \"+last_name)\n",
    "    \n",
    "print_name('sheldon','ross')"
   ]
  },
  {
   "cell_type": "markdown",
   "metadata": {},
   "source": [
    "# Function may return a result to their caller using return\n",
    "* Use return to give one result value back to the caller  \n",
    "* return can be anywhere inside the function.  \n",
    "* Generally return occurs at two points  \n",
    "  * At the starting to handle the special cases.\n",
    "  * At the end for final result  "
   ]
  },
  {
   "cell_type": "code",
   "execution_count": 13,
   "metadata": {},
   "outputs": [],
   "source": [
    "# It will return the average of all values of list \n",
    "def average(values):\n",
    "    if len(values)==0:\n",
    "       return None\n",
    "    else:\n",
    "        return sum(values)/len(values)"
   ]
  },
  {
   "cell_type": "code",
   "execution_count": 14,
   "metadata": {},
   "outputs": [
    {
     "name": "stdout",
     "output_type": "stream",
     "text": [
      "Average value is 2.3333333333333335\n"
     ]
    }
   ],
   "source": [
    "a=average([1,2,4])\n",
    "print(\"Average value is\",a)"
   ]
  },
  {
   "cell_type": "markdown",
   "metadata": {},
   "source": [
    "* Every function return something\n",
    "* Function that doesn't return a value will return <code>None</code>"
   ]
  },
  {
   "cell_type": "code",
   "execution_count": 20,
   "metadata": {},
   "outputs": [
    {
     "name": "stdout",
     "output_type": "stream",
     "text": [
      "Hello World\n",
      "Returned value is None\n"
     ]
    }
   ],
   "source": [
    "def print_hello():\n",
    "    print('Hello World')\n",
    "\n",
    "hello=print_hello()\n",
    "print(\"Returned value is \"+str(hello))"
   ]
  },
  {
   "cell_type": "markdown",
   "metadata": {},
   "source": [
    "# Challenge 1: What does this program print"
   ]
  },
  {
   "cell_type": "code",
   "execution_count": null,
   "metadata": {},
   "outputs": [],
   "source": [
    "def name(value):\n",
    "    print('Name is ',str(value))\n",
    "\n",
    "print(name,'james')"
   ]
  },
  {
   "cell_type": "markdown",
   "metadata": {},
   "source": [
    "# Challenge 2 : Write a function to check if the number is even or not(Fill in the blanks)"
   ]
  },
  {
   "cell_type": "code",
   "execution_count": null,
   "metadata": {},
   "outputs": [],
   "source": [
    "def check_even(number):\n",
    "    if ___%2==0:\n",
    "        return ___\n",
    "    else:\n",
    "        return ___"
   ]
  },
  {
   "cell_type": "markdown",
   "metadata": {},
   "source": [
    "# Challenge 3: Calling by name\n",
    "What does this program print"
   ]
  },
  {
   "cell_type": "code",
   "execution_count": null,
   "metadata": {},
   "outputs": [],
   "source": [
    "def print_date(year, month, day):\n",
    "    joined = str(year) + '/' + str(month) + '/' + str(day)\n",
    "    print(joined)\n",
    "\n",
    "print_date(day=1, month=2, year=2003)"
   ]
  },
  {
   "cell_type": "markdown",
   "metadata": {},
   "source": [
    "Functions are the most important part of programming.So practice is necessary to have expertise over them"
   ]
  },
  {
   "cell_type": "code",
   "execution_count": null,
   "metadata": {},
   "outputs": [],
   "source": []
  }
 ],
 "metadata": {
  "kernelspec": {
   "display_name": "Python 3",
   "language": "python",
   "name": "python3"
  },
  "language_info": {
   "codemirror_mode": {
    "name": "ipython",
    "version": 3
   },
   "file_extension": ".py",
   "mimetype": "text/x-python",
   "name": "python",
   "nbconvert_exporter": "python",
   "pygments_lexer": "ipython3",
   "version": "3.8.3"
  }
 },
 "nbformat": 4,
 "nbformat_minor": 4
}
