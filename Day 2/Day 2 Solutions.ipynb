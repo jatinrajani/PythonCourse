{
 "cells": [
  {
   "cell_type": "markdown",
   "metadata": {},
   "source": [
    "### Module 5 Answers"
   ]
  },
  {
   "cell_type": "markdown",
   "metadata": {},
   "source": [
    "\n",
    "### Challenge 1:.Note down the answers without using jupyter notebook\n",
    "* 2>3 and 1<=4  \n",
    "False\n",
    "* 3!=5 or 3==3  \n",
    "True\n",
    "* 5>=6 and 7<8  \n",
    "False\n",
    "* 1<2 and 3>4  \n",
    "False"
   ]
  },
  {
   "cell_type": "markdown",
   "metadata": {},
   "source": [
    "## Module 7 Answers\n"
   ]
  },
  {
   "cell_type": "code",
   "execution_count": 2,
   "metadata": {},
   "outputs": [
    {
     "data": {
      "text/plain": [
       "[1.0, 2.0, 3.0, 4.0]"
      ]
     },
     "execution_count": 2,
     "metadata": {},
     "output_type": "execute_result"
    }
   ],
   "source": [
    "# Challenge 1:Using squared list,create a new list by the name of under_root which will give the square root of every number in that list\n",
    "squared_list=[1, 4, 9, 16]\n",
    "under_root=[]\n",
    "for j in squared_list:\n",
    "    j=j**0.5\n",
    "    under_root.append(j)\n",
    "under_root"
   ]
  },
  {
   "cell_type": "code",
   "execution_count": 3,
   "metadata": {},
   "outputs": [
    {
     "data": {
      "text/plain": [
       "16"
      ]
     },
     "execution_count": 3,
     "metadata": {},
     "output_type": "execute_result"
    }
   ],
   "source": [
    "#Challenge 2: Print total length of all strings given in all_fruits list\n",
    "all_fruits=['apple','mango','banana']\n",
    "# Hint1: Use len() function to calculate length of string    \n",
    "total_length=0\n",
    "for i in all_fruits:\n",
    "    total_length+=len(i)\n",
    "total_length"
   ]
  },
  {
   "cell_type": "markdown",
   "metadata": {},
   "source": [
    "## Module 8 Answers"
   ]
  },
  {
   "cell_type": "code",
   "execution_count": 7,
   "metadata": {},
   "outputs": [
    {
     "name": "stdout",
     "output_type": "stream",
     "text": [
      "Name is  james\n",
      "None james\n"
     ]
    }
   ],
   "source": [
    "#Challenge 1:What does the program print\n",
    "def name(value):\n",
    "    print('Name is ',str(value))\n",
    "\n",
    "print(name('james'),'james')\n",
    "#Here print function has to be corrected"
   ]
  },
  {
   "cell_type": "code",
   "execution_count": 6,
   "metadata": {},
   "outputs": [],
   "source": [
    "#Challenge 2 : Write a function to check if the number is even or not(Fill in the blanks)\n",
    "def check_even(number):\n",
    "    if number%2==0:\n",
    "        return True\n",
    "    else:\n",
    "        return False"
   ]
  },
  {
   "cell_type": "code",
   "execution_count": 8,
   "metadata": {},
   "outputs": [
    {
     "name": "stdout",
     "output_type": "stream",
     "text": [
      "2003/2/1\n"
     ]
    }
   ],
   "source": [
    "#Challenge 3: Calling by name\n",
    "def print_date(year, month, day):\n",
    "    joined = str(year) + '/' + str(month) + '/' + str(day)\n",
    "    print(joined)\n",
    "\n",
    "print_date(day=1, month=2, year=2003)"
   ]
  },
  {
   "cell_type": "code",
   "execution_count": null,
   "metadata": {},
   "outputs": [],
   "source": []
  }
 ],
 "metadata": {
  "kernelspec": {
   "display_name": "Python 3",
   "language": "python",
   "name": "python3"
  },
  "language_info": {
   "codemirror_mode": {
    "name": "ipython",
    "version": 3
   },
   "file_extension": ".py",
   "mimetype": "text/x-python",
   "name": "python",
   "nbconvert_exporter": "python",
   "pygments_lexer": "ipython3",
   "version": "3.8.3"
  }
 },
 "nbformat": 4,
 "nbformat_minor": 4
}
