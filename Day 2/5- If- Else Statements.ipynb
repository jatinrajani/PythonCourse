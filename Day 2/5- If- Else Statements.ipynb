{
 "cells": [
  {
   "cell_type": "markdown",
   "metadata": {},
   "source": [
    "## If-else Statements\n",
    "<code>if</code> if,else  statements allows the computer to perform certain actions based on certain conditions.  \n",
    "It is similar to this \n",
    "<b>if</b> this happens perform action1. \n",
    "<b>else</b> performs action2.\n",
    "\n",
    "Let's look at syntax of <code>if-else</code>\n",
    "\n",
    "    if case1:\n",
    "        perform action1\n",
    "    elif case2:\n",
    "        perform action2\n",
    "    else: \n",
    "        perform action3\n"
   ]
  },
  {
   "cell_type": "markdown",
   "metadata": {},
   "source": [
    "## First Example"
   ]
  },
  {
   "cell_type": "code",
   "execution_count": 1,
   "metadata": {},
   "outputs": [
    {
     "name": "stdout",
     "output_type": "stream",
     "text": [
      "True statement is executed\n"
     ]
    }
   ],
   "source": [
    "if True:\n",
    "    print(\"True statement is executed\")\n"
   ]
  },
  {
   "cell_type": "code",
   "execution_count": 3,
   "metadata": {},
   "outputs": [
    {
     "name": "stdout",
     "output_type": "stream",
     "text": [
      "x is True\n"
     ]
    }
   ],
   "source": [
    "x=True\n",
    "if x==True:\n",
    "   print(\"x is True\")\n",
    "else:\n",
    "    print(\"x is not True \")"
   ]
  },
  {
   "cell_type": "markdown",
   "metadata": {},
   "source": [
    "We can see that x was True.  \n",
    "So statement in which x was True,that was executed.  "
   ]
  },
  {
   "cell_type": "markdown",
   "metadata": {},
   "source": [
    "## MULTIPLE STATEMENTS"
   ]
  },
  {
   "cell_type": "code",
   "execution_count": 5,
   "metadata": {},
   "outputs": [
    {
     "name": "stdout",
     "output_type": "stream",
     "text": [
      "Welcome to the Shop\n"
     ]
    }
   ],
   "source": [
    "location='Shop'\n",
    "if location=='Shop':\n",
    "    print(\"Welcome to the Shop\")\n",
    "elif location=='Bank':\n",
    "    print(\"Welcome to the Bank\")\n",
    "else:\n",
    "    print(\"Where are You\")"
   ]
  },
  {
   "cell_type": "markdown",
   "metadata": {},
   "source": [
    "We can have as many <code>elif</code> statements. Until you finish with <code>else</code> statement."
   ]
  },
  {
   "cell_type": "markdown",
   "metadata": {},
   "source": [
    "Lets take one more example of <code>if-else</code>"
   ]
  },
  {
   "cell_type": "code",
   "execution_count": 9,
   "metadata": {},
   "outputs": [
    {
     "name": "stdout",
     "output_type": "stream",
     "text": [
      "Hi James,how are you?\n"
     ]
    }
   ],
   "source": [
    "name='James'\n",
    "if name=='James':\n",
    "    print(\"Hi James,how are you?\")\n",
    "else:\n",
    "    print(\"Hi,What is your name?\")"
   ]
  },
  {
   "cell_type": "code",
   "execution_count": 10,
   "metadata": {},
   "outputs": [
    {
     "name": "stdout",
     "output_type": "stream",
     "text": [
      "Hi,What is your name?\n"
     ]
    }
   ],
   "source": [
    "#Lets take example of if-elif-else\n",
    "name='Sammy'\n",
    "if name=='James':\n",
    "   print(\"Hi James,how are you?\")\n",
    "elif name=='George':\n",
    "    print(\"Hi George,how are you?\")\n",
    "else:\n",
    "    print(\"Hi,What is your name?\")"
   ]
  },
  {
   "cell_type": "markdown",
   "metadata": {},
   "source": [
    "Hopefully you understood about if else statements. \n",
    "Please keep indentation in mind to structure your code.  "
   ]
  },
  {
   "cell_type": "code",
   "execution_count": null,
   "metadata": {},
   "outputs": [],
   "source": []
  }
 ],
 "metadata": {
  "kernelspec": {
   "display_name": "Python 3",
   "language": "python",
   "name": "python3"
  },
  "language_info": {
   "codemirror_mode": {
    "name": "ipython",
    "version": 3
   },
   "file_extension": ".py",
   "mimetype": "text/x-python",
   "name": "python",
   "nbconvert_exporter": "python",
   "pygments_lexer": "ipython3",
   "version": "3.8.3"
  }
 },
 "nbformat": 4,
 "nbformat_minor": 4
}
