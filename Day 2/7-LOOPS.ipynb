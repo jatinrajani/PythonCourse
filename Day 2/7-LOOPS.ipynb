{
 "cells": [
  {
   "cell_type": "markdown",
   "metadata": {},
   "source": [
    "* Objectives of this module\n",
    "* <code>for</code> Loop\n",
    "  * Syntax of for loop\n",
    "  * Iterating through lists,strings,dictionaries\n",
    "  * Doing some questions on <code>for</code> loop\n",
    "* <code>while</code> Loop\n",
    "  * Syntax of while loop\n",
    "  * Different Examples of while loop\n",
    "  * Doing some questions on <code>for</code> loop"
   ]
  },
  {
   "cell_type": "markdown",
   "metadata": {},
   "source": [
    "## <code>for</code> Loop\n",
    "A <code>for</code> loop acts as an iterator.It goes through objects that are iterable.Objects we have learned about can be iterated such as  lists,strings,dictionary.\n",
    "\n",
    "Syntax of <code>for</code> loop in Python:  \n",
    "\n",
    "    for item in object:\n",
    "        do something\n",
    "        \n",
    "The variable name such as item,object can be changes and depends on the coder.  \n",
    "\n",
    "Lets look at examples\n"
   ]
  },
  {
   "cell_type": "code",
   "execution_count": 1,
   "metadata": {},
   "outputs": [
    {
     "name": "stdout",
     "output_type": "stream",
     "text": [
      "2\n",
      "3\n",
      "5\n"
     ]
    }
   ],
   "source": [
    "# Iterating through lists\n",
    "for x in [2,3,5]:\n",
    "    print(x)"
   ]
  },
  {
   "cell_type": "markdown",
   "metadata": {},
   "source": [
    "To do something similar to this"
   ]
  },
  {
   "cell_type": "code",
   "execution_count": 2,
   "metadata": {},
   "outputs": [
    {
     "name": "stdout",
     "output_type": "stream",
     "text": [
      "2\n",
      "3\n",
      "5\n"
     ]
    }
   ],
   "source": [
    "print(2)\n",
    "print(3)\n",
    "print(5)"
   ]
  },
  {
   "cell_type": "markdown",
   "metadata": {},
   "source": [
    "## The first line of the <code>for</code> loop must end with a colon  \n",
    "* Body of the loop must be indented.   \n",
    "* We can have any legal indentation,but four spaces is used everywhere generally.  \n"
   ]
  },
  {
   "cell_type": "markdown",
   "metadata": {},
   "source": [
    "## A <code>for</code> loop is made of collection,loop variable and body"
   ]
  },
  {
   "cell_type": "code",
   "execution_count": null,
   "metadata": {},
   "outputs": [],
   "source": [
    "for number in [1,2,3]:\n",
    "    print(number)"
   ]
  },
  {
   "cell_type": "markdown",
   "metadata": {},
   "source": [
    "* The collection is [1,2,3] on which loop is being run on.  \n",
    "* In the body,print(number) which specifies to do on each value of collection.  \n",
    "* Loop variable,number which changes for each iteration in loop"
   ]
  },
  {
   "cell_type": "markdown",
   "metadata": {},
   "source": [
    "## We can have any number of statements inside <code>for</code> loop"
   ]
  },
  {
   "cell_type": "code",
   "execution_count": 6,
   "metadata": {},
   "outputs": [
    {
     "name": "stdout",
     "output_type": "stream",
     "text": [
      "2\n",
      "4\n"
     ]
    }
   ],
   "source": [
    "# Lets print even numbers in a list\n",
    "for number in [1,2,3,4]:\n",
    "    if number%2==0:\n",
    "        print(number)\n",
    "    "
   ]
  },
  {
   "cell_type": "markdown",
   "metadata": {},
   "source": [
    "Earlier,we have seen how <code>%</code> i.e modulo operator works.  \n",
    "It gives us the remainder.So if any number is divided by 2 and it gives remainder of 0 which means it is a even number"
   ]
  },
  {
   "cell_type": "code",
   "execution_count": 8,
   "metadata": {},
   "outputs": [
    {
     "name": "stdout",
     "output_type": "stream",
     "text": [
      "Odd Number\n",
      "1\n",
      "Even Number\n",
      "2\n",
      "Odd Number\n",
      "3\n",
      "Even Number\n",
      "4\n"
     ]
    }
   ],
   "source": [
    "## Now printing odd number also\n",
    "for number in [1,2,3,4]:\n",
    "    if number%2==0:\n",
    "        print(\"Even Number\")\n",
    "        print(number)\n",
    "    else:\n",
    "        print(\"Odd Number\")\n",
    "        print(number)"
   ]
  },
  {
   "cell_type": "markdown",
   "metadata": {},
   "source": [
    "### Example:Lets output the sum of a given list"
   ]
  },
  {
   "cell_type": "code",
   "execution_count": 10,
   "metadata": {},
   "outputs": [
    {
     "name": "stdout",
     "output_type": "stream",
     "text": [
      "19\n"
     ]
    }
   ],
   "source": [
    "new_list=[1,3,4,5,6]\n",
    "total=0\n",
    "for number in new_list:\n",
    "    total=total+number\n",
    "print(total)"
   ]
  },
  {
   "cell_type": "markdown",
   "metadata": {},
   "source": [
    "* Read total=total+number\n",
    "  * Add the current value of the loop variable,number to the current value of accumlator called total.  \n",
    "  * Assign the new value,total replacing the current value.  \n",
    "Instead of writing total=total+number.We can directly write total+=number.This will work same as total=total+number"
   ]
  },
  {
   "cell_type": "code",
   "execution_count": 12,
   "metadata": {},
   "outputs": [
    {
     "name": "stdout",
     "output_type": "stream",
     "text": [
      "19\n"
     ]
    }
   ],
   "source": [
    "new_list=[1,3,4,5,6]\n",
    "total=0\n",
    "for number in new_list:\n",
    "    total+=number\n",
    "print(total)"
   ]
  },
  {
   "cell_type": "markdown",
   "metadata": {},
   "source": [
    "## Example:Lets make a new list <code>squared</code>,and add square of every number in the given list"
   ]
  },
  {
   "cell_type": "code",
   "execution_count": 14,
   "metadata": {},
   "outputs": [
    {
     "name": "stdout",
     "output_type": "stream",
     "text": [
      "[1, 4, 9, 16]\n"
     ]
    }
   ],
   "source": [
    "squared=[]\n",
    "new_list=[1,2,3,4]\n",
    "\n",
    "for number in new_list:\n",
    "    squared.append(number**2)\n",
    "    \n",
    "print(squared)"
   ]
  },
  {
   "cell_type": "markdown",
   "metadata": {},
   "source": [
    "## Challenge 1:Using squared list,create a new list by the name of under_root which will give the square root of every number in that list\n",
    "* Hint:To take square root of number we can do number**0.5"
   ]
  },
  {
   "cell_type": "markdown",
   "metadata": {},
   "source": [
    "# Strings"
   ]
  },
  {
   "cell_type": "code",
   "execution_count": 19,
   "metadata": {},
   "outputs": [
    {
     "name": "stdout",
     "output_type": "stream",
     "text": [
      "a\n",
      "i\n",
      "e\n",
      "o\n",
      "u\n"
     ]
    }
   ],
   "source": [
    "## Example:Now lets iterate over strings\n",
    "all_vowels='aieou'\n",
    "for vowel in all_vowels:\n",
    "    print(vowel)"
   ]
  },
  {
   "cell_type": "code",
   "execution_count": 17,
   "metadata": {},
   "outputs": [
    {
     "data": {
      "text/plain": [
       "'applemangobanana'"
      ]
     },
     "execution_count": 17,
     "metadata": {},
     "output_type": "execute_result"
    }
   ],
   "source": [
    "## Lets concatenate all the strings given in a list into one\n",
    "all_fruits=['apple','mango','banana']\n",
    "total_fruits=\"\" # Create an empty string \n",
    "for fruit in all_fruits:\n",
    "    total_fruits=total_fruits+fruit\n",
    "total_fruits"
   ]
  },
  {
   "cell_type": "markdown",
   "metadata": {},
   "source": [
    "## Challenge 2: Print total length of all strings given in all_fruits list\n",
    "* all_fruits=['apple','mango','banana']\n",
    "* Hint1: Use len() function to calculate length of string\n"
   ]
  },
  {
   "cell_type": "markdown",
   "metadata": {},
   "source": [
    "## Dictionary"
   ]
  },
  {
   "cell_type": "code",
   "execution_count": 21,
   "metadata": {},
   "outputs": [],
   "source": [
    "d={'k1':1,'k2':2,'k3':3}\n"
   ]
  },
  {
   "cell_type": "code",
   "execution_count": 22,
   "metadata": {},
   "outputs": [
    {
     "name": "stdout",
     "output_type": "stream",
     "text": [
      "k1\n",
      "k2\n",
      "k3\n"
     ]
    }
   ],
   "source": [
    "for item in d:\n",
    "    print(item)"
   ]
  },
  {
   "cell_type": "markdown",
   "metadata": {},
   "source": [
    "This only gets us keys.Then how can we get values.Or both values and keys.  \n",
    "We will now introduce a new function called <b>items()</b> which will give us both values and keys"
   ]
  },
  {
   "cell_type": "code",
   "execution_count": 23,
   "metadata": {},
   "outputs": [
    {
     "data": {
      "text/plain": [
       "dict_items([('k1', 1), ('k2', 2), ('k3', 3)])"
      ]
     },
     "execution_count": 23,
     "metadata": {},
     "output_type": "execute_result"
    }
   ],
   "source": [
    "# This will give us both values and keys\n",
    "d.items()"
   ]
  },
  {
   "cell_type": "code",
   "execution_count": 24,
   "metadata": {},
   "outputs": [
    {
     "name": "stdout",
     "output_type": "stream",
     "text": [
      "k1\n",
      "1\n",
      "k2\n",
      "2\n",
      "k3\n",
      "3\n"
     ]
    }
   ],
   "source": [
    "# Dictionary unpacking\n",
    "for k,v in d.items():\n",
    "    print(k)\n",
    "    print(v) "
   ]
  },
  {
   "cell_type": "code",
   "execution_count": 25,
   "metadata": {},
   "outputs": [
    {
     "name": "stdout",
     "output_type": "stream",
     "text": [
      "1\n",
      "2\n",
      "3\n"
     ]
    }
   ],
   "source": [
    "# To iterate over values of dictionary\n",
    "for value in d.values():\n",
    "    print(value)"
   ]
  },
  {
   "cell_type": "markdown",
   "metadata": {},
   "source": [
    "## Conclusion\n",
    "We've learned how to use <code>for</code> loops to iterate through lists, strings, and dictionaries. It will be an important tool for us, so make sure you know it well and understood the above examples."
   ]
  },
  {
   "cell_type": "markdown",
   "metadata": {},
   "source": [
    "## while Loop"
   ]
  },
  {
   "cell_type": "markdown",
   "metadata": {},
   "source": [
    "The <code>while</code> loop is also another way to perform iteration.A <code>while</code> will repeatedly execute a single statement or group of statements as long the condition is true.  \n",
    "It is called loop because the statements will get executed over and over again until condition is met.\n",
    "\n",
    "    while test:\n",
    "        code statements\n",
    "    else:\n",
    "        final code statements\n",
    "Lets take some examples to get fair understanding of this loop"
   ]
  },
  {
   "cell_type": "code",
   "execution_count": 33,
   "metadata": {},
   "outputs": [
    {
     "name": "stdout",
     "output_type": "stream",
     "text": [
      "x is currently: 0\n",
      " x is less than 5 Adding 1 to x\n",
      "x is currently: 1\n",
      " x is less than 5 Adding 1 to x\n",
      "x is currently: 2\n",
      " x is less than 5 Adding 1 to x\n",
      "x is currently: 3\n",
      " x is less than 5 Adding 1 to x\n",
      "x is currently: 4\n",
      " x is less than 5 Adding 1 to x\n"
     ]
    }
   ],
   "source": [
    "x=0\n",
    "while(x<5):\n",
    "    print('x is currently:',x)\n",
    "    print(' x is less than 5 Adding 1 to x')\n",
    "    x+=1"
   ]
  },
  {
   "cell_type": "markdown",
   "metadata": {},
   "source": [
    "Notice how many times the print statements occurred and the <code>while</code> loop will keep on going until x<5.  \n",
    "When x==5 the code stopped.Lets see how we could add an <code>else</code> statement."
   ]
  },
  {
   "cell_type": "code",
   "execution_count": 36,
   "metadata": {},
   "outputs": [
    {
     "name": "stdout",
     "output_type": "stream",
     "text": [
      "x is currently: 0\n",
      " x is less than 5 Adding 1 to x\n",
      "x is currently: 1\n",
      " x is less than 5 Adding 1 to x\n",
      "x is currently: 2\n",
      " x is less than 5 Adding 1 to x\n",
      "x is currently: 3\n",
      " x is less than 5 Adding 1 to x\n",
      "x is currently: 4\n",
      " x is less than 5 Adding 1 to x\n",
      "All done\n"
     ]
    }
   ],
   "source": [
    "x=0\n",
    "while(x<5):\n",
    "    print('x is currently:',x)\n",
    "    print(' x is less than 5 Adding 1 to x')\n",
    "    x+=1\n",
    "else:\n",
    "    print(\"All done\")"
   ]
  },
  {
   "cell_type": "markdown",
   "metadata": {},
   "source": [
    "## break,continue,pass\n",
    "We can use <code>break</code>, <code>continue</code>, and <code>pass</code> statements in our loops to add additional functionality for various cases. The three statements are defined by:\n",
    "\n",
    "    break: Breaks out of the current closest enclosing loop.\n",
    "    continue: Goes to the top of the closest enclosing loop.\n",
    "    pass: Does nothing at all.\n",
    "    \n",
    "    \n",
    "Thinking about <code>break</code> and <code>continue</code> statements, the general format of the <code>while</code> loop looks like this:\n",
    "\n",
    "    while test: \n",
    "        code statement\n",
    "        if test: \n",
    "            break\n",
    "        if test: \n",
    "            continue \n",
    "    else:\n",
    "\n",
    "<code>break</code> and <code>continue</code> statements can appear anywhere inside the loop’s body, but we will usually put them further nested in conjunction with an <code>if</code> statement to perform an action based on some condition.\n",
    "\n",
    "Let's go ahead and look at some examples!"
   ]
  },
  {
   "cell_type": "code",
   "execution_count": 41,
   "metadata": {},
   "outputs": [
    {
     "name": "stdout",
     "output_type": "stream",
     "text": [
      "0\n",
      "1\n",
      "2\n",
      "3\n"
     ]
    }
   ],
   "source": [
    "# Lets see break example\n",
    "x=0\n",
    "while(x<5):\n",
    "    if(x==3):\n",
    "        print(x)\n",
    "        break\n",
    "    else:\n",
    "        print(x)\n",
    "    x+=1"
   ]
  },
  {
   "cell_type": "markdown",
   "metadata": {},
   "source": [
    "In this example we can see as soon as <code>x==3</code>,code stopped.\n"
   ]
  },
  {
   "cell_type": "code",
   "execution_count": 45,
   "metadata": {},
   "outputs": [
    {
     "name": "stdout",
     "output_type": "stream",
     "text": [
      "0\n",
      "1\n",
      "2\n",
      "Continue\n",
      "4\n"
     ]
    }
   ],
   "source": [
    "# Lets see continue example\n",
    "x=0\n",
    "while(x<5):\n",
    "    if(x==3):\n",
    "        x+=1\n",
    "        print(\"Continue\")\n",
    "        continue\n",
    "    else:\n",
    "        print(x)\n",
    "    x+=1"
   ]
  },
  {
   "cell_type": "markdown",
   "metadata": {},
   "source": [
    "Notice how in the <code>continue</code> code.After x==3,code is being continued through the outer <code>while</code> loop"
   ]
  },
  {
   "cell_type": "markdown",
   "metadata": {},
   "source": [
    "After these brief but simple examples, you should feel comfortable using <code>while</code> statements in your code.\n",
    "\n",
    "**A word of caution however! It is possible to create an infinitely running loop with <code>while</code> statements. For example:**\n",
    "\n"
   ]
  },
  {
   "cell_type": "code",
   "execution_count": null,
   "metadata": {},
   "outputs": [],
   "source": [
    "# DO NOT RUN THIS CODE!!!! \n",
    "while True:\n",
    "    print(\"I'm stuck in an infinite loop!\")"
   ]
  },
  {
   "cell_type": "code",
   "execution_count": null,
   "metadata": {},
   "outputs": [],
   "source": []
  }
 ],
 "metadata": {
  "kernelspec": {
   "display_name": "Python 3",
   "language": "python",
   "name": "python3"
  },
  "language_info": {
   "codemirror_mode": {
    "name": "ipython",
    "version": 3
   },
   "file_extension": ".py",
   "mimetype": "text/x-python",
   "name": "python",
   "nbconvert_exporter": "python",
   "pygments_lexer": "ipython3",
   "version": "3.8.3"
  }
 },
 "nbformat": 4,
 "nbformat_minor": 4
}
